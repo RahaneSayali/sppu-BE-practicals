{
 "cells": [
  {
   "cell_type": "code",
   "execution_count": null,
   "id": "1d16ec19",
   "metadata": {},
   "outputs": [],
   "source": [
    "import numpy as np\n",
    "import pandas as pd\n",
    "import matplotlib.pyplot as plt\n",
    "from sklearn.preprocessing import MinMaxScaler\n",
    "import tensorflow as tf\n",
    "from tensorflow.keras import layers, models\n"
   ]
  },
  {
   "cell_type": "code",
   "execution_count": null,
   "id": "1dc7e6d3",
   "metadata": {},
   "outputs": [],
   "source": [
    "# Load dataset\n",
    "data = pd.read_csv('Google_Stock_Price_Train.csv')  # (adjust path if needed)\n",
    "training_set = data['Open'].values.reshape(-1, 1)\n",
    "scaler = MinMaxScaler(feature_range=(0, 1))\n",
    "training_set_scaled = scaler.fit_transform(training_set)"
   ]
  },
  {
   "cell_type": "code",
   "execution_count": null,
   "id": "75cdc686",
   "metadata": {},
   "outputs": [],
   "source": [
    "# Create sequences\n",
    "X_train, y_train = [], []\n",
    "for i in range(60, len(training_set_scaled)):\n",
    "    X_train.append(training_set_scaled[i-60:i, 0])\n",
    "    y_train.append(training_set_scaled[i, 0])\n",
    "X_train, y_train = np.array(X_train), np.array(y_train)\n",
    "X_train = X_train.reshape((X_train.shape[0], X_train.shape[1], 1))"
   ]
  },
  {
   "cell_type": "code",
   "execution_count": null,
   "id": "20e067a1",
   "metadata": {},
   "outputs": [],
   "source": [
    "# Build RNN model\n",
    "model = models.Sequential([\n",
    "    layers.SimpleRNN(50, return_sequences=False, input_shape=(X_train.shape[1], 1)),\n",
    "    layers.Dense(1)\n",
    "])\n",
    "model.compile(optimizer='adam', loss='mean_squared_error')"
   ]
  },
  {
   "cell_type": "code",
   "execution_count": null,
   "id": "dd33a141",
   "metadata": {},
   "outputs": [],
   "source": [
    "history = model.fit(X_train, y_train, epochs=10, batch_size=32, verbose=0)\n"
   ]
  },
  {
   "cell_type": "code",
   "execution_count": null,
   "id": "4035f734",
   "metadata": {},
   "outputs": [],
   "source": [
    "# Prediction on training set (for visualization)\n",
    "predicted_stock_price = model.predict(X_train)\n",
    "predicted_stock_price = scaler.inverse_transform(predicted_stock_price)\n",
    "real_stock_price = scaler.inverse_transform(training_set_scaled[60:])\n"
   ]
  },
  {
   "cell_type": "code",
   "execution_count": null,
   "id": "3223a9b1",
   "metadata": {},
   "outputs": [],
   "source": [
    "plt.plot(real_stock_price, color='red', label='Real Stock Price')\n",
    "plt.plot(predicted_stock_price, color='blue', label='Predicted Stock Price')\n",
    "plt.title('Google Stock Price Prediction')\n",
    "plt.xlabel('Time')\n",
    "plt.ylabel('Stock Price')\n",
    "plt.legend()\n",
    "plt.show()\n"
   ]
  }
 ],
 "metadata": {
  "language_info": {
   "name": "python"
  }
 },
 "nbformat": 4,
 "nbformat_minor": 5
}
